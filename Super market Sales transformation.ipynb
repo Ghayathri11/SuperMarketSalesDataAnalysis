{
 "cells": [
  {
   "cell_type": "code",
   "execution_count": 0,
   "metadata": {
    "application/vnd.databricks.v1+cell": {
     "cellMetadata": {
      "byteLimit": 2048000,
      "rowLimit": 10000
     },
     "inputWidgets": {},
     "nuid": "59257e44-9931-4e1d-ac85-17f8ac4eaf7f",
     "showTitle": false,
     "title": ""
    }
   },
   "outputs": [],
   "source": [
    "from pyspark.sql.functions import count,month, year,round\n",
    "from pyspark.sql.functions import col,concat,lit,lag\n",
    "from pyspark.sql.window import Window\n",
    "from pyspark.sql.functions import sum,first,date_format, to_date,coalesce"
   ]
  },
  {
   "cell_type": "code",
   "execution_count": 0,
   "metadata": {
    "application/vnd.databricks.v1+cell": {
     "cellMetadata": {
      "byteLimit": 2048000,
      "rowLimit": 10000
     },
     "inputWidgets": {},
     "nuid": "be7d7f1b-39d0-414b-af0c-07fbff8c51b9",
     "showTitle": false,
     "title": ""
    }
   },
   "outputs": [
    {
     "output_type": "execute_result",
     "data": {
      "text/plain": [
       "True"
      ]
     },
     "execution_count": 1,
     "metadata": {},
     "output_type": "execute_result"
    }
   ],
   "source": [
    "configs = {\"fs.azure.account.auth.type\": \"OAuth\",\n",
    "\"fs.azure.account.oauth.provider.type\": \"org.apache.hadoop.fs.azurebfs.oauth2.ClientCredsTokenProvider\",\n",
    "\"fs.azure.account.oauth2.client.id\": \"\",\n",
    "\"fs.azure.account.oauth2.client.secret\": '',\n",
    "\"fs.azure.account.oauth2.client.endpoint\": \"https://login.microsoftonline.com/tenant_id/oauth2/token\"}\n",
    "\n",
    "\n",
    "dbutils.fs.mount(\n",
    "source = \"abfss://sales@datalake11122000.dfs.core.windows.net\", # contrainer@storageacc\n",
    "mount_point = \"/mnt/supermarket\",\n",
    "extra_configs = configs)\n",
    "  "
   ]
  },
  {
   "cell_type": "code",
   "execution_count": 0,
   "metadata": {
    "application/vnd.databricks.v1+cell": {
     "cellMetadata": {
      "byteLimit": 2048000,
      "rowLimit": 10000
     },
     "inputWidgets": {},
     "nuid": "ee5f009a-3b6c-407e-a774-89c29bbaad06",
     "showTitle": false,
     "title": ""
    }
   },
   "outputs": [
    {
     "output_type": "display_data",
     "data": {
      "text/html": [
       "<style scoped>\n",
       "  .table-result-container {\n",
       "    max-height: 300px;\n",
       "    overflow: auto;\n",
       "  }\n",
       "  table, th, td {\n",
       "    border: 1px solid black;\n",
       "    border-collapse: collapse;\n",
       "  }\n",
       "  th, td {\n",
       "    padding: 5px;\n",
       "  }\n",
       "  th {\n",
       "    text-align: left;\n",
       "  }\n",
       "</style><div class='table-result-container'><table class='table-result'><thead style='background-color: white'><tr><th>path</th><th>name</th><th>size</th><th>modificationTime</th></tr></thead><tbody><tr><td>dbfs:/mnt/supermarket/Items.csv</td><td>Items.csv</td><td>16597</td><td>1696404193000</td></tr><tr><td>dbfs:/mnt/supermarket/Sales.csv</td><td>Sales.csv</td><td>51794172</td><td>1696402556000</td></tr><tr><td>dbfs:/mnt/supermarket/transformed-data/</td><td>transformed-data/</td><td>0</td><td>1696483183000</td></tr></tbody></table></div>"
      ]
     },
     "metadata": {
      "application/vnd.databricks.v1+output": {
       "addedWidgets": {},
       "aggData": [],
       "aggError": "",
       "aggOverflow": false,
       "aggSchema": [],
       "aggSeriesLimitReached": false,
       "aggType": "",
       "arguments": {},
       "columnCustomDisplayInfos": {},
       "data": [
        [
         "dbfs:/mnt/supermarket/Items.csv",
         "Items.csv",
         16597,
         1696404193000
        ],
        [
         "dbfs:/mnt/supermarket/Sales.csv",
         "Sales.csv",
         51794172,
         1696402556000
        ],
        [
         "dbfs:/mnt/supermarket/transformed-data/",
         "transformed-data/",
         0,
         1696483183000
        ]
       ],
       "datasetInfos": [],
       "dbfsResultPath": null,
       "isJsonSchema": true,
       "metadata": {
        "isDbfsCommandResult": false
       },
       "overflow": false,
       "plotOptions": {
        "customPlotOptions": {},
        "displayType": "table",
        "pivotAggregation": null,
        "pivotColumns": null,
        "xColumns": null,
        "yColumns": null
       },
       "removedWidgets": [],
       "schema": [
        {
         "metadata": "{}",
         "name": "path",
         "type": "\"string\""
        },
        {
         "metadata": "{}",
         "name": "name",
         "type": "\"string\""
        },
        {
         "metadata": "{}",
         "name": "size",
         "type": "\"long\""
        },
        {
         "metadata": "{}",
         "name": "modificationTime",
         "type": "\"long\""
        }
       ],
       "type": "table"
      }
     },
     "output_type": "display_data"
    }
   ],
   "source": [
    "%fs\n",
    "\n",
    "ls \"/mnt/supermarket\"\n"
   ]
  },
  {
   "cell_type": "code",
   "execution_count": 0,
   "metadata": {
    "application/vnd.databricks.v1+cell": {
     "cellMetadata": {
      "byteLimit": 2048000,
      "rowLimit": 10000
     },
     "inputWidgets": {},
     "nuid": "a9592b3e-9a22-46c1-8a81-7e5143effd2a",
     "showTitle": false,
     "title": ""
    }
   },
   "outputs": [
    {
     "output_type": "execute_result",
     "data": {
      "text/html": [
       "\n",
       "            <div>\n",
       "                <p><b>SparkSession - hive</b></p>\n",
       "                \n",
       "        <div>\n",
       "            <p><b>SparkContext</b></p>\n",
       "\n",
       "            <p><a href=\"/?o=4242253435476991#setting/sparkui/1004-062421-70c380gs/driver-1635268123992940933\">Spark UI</a></p>\n",
       "\n",
       "            <dl>\n",
       "              <dt>Version</dt>\n",
       "                <dd><code>v3.4.1</code></dd>\n",
       "              <dt>Master</dt>\n",
       "                <dd><code>local[*, 4]</code></dd>\n",
       "              <dt>AppName</dt>\n",
       "                <dd><code>Databricks Shell</code></dd>\n",
       "            </dl>\n",
       "        </div>\n",
       "        \n",
       "            </div>\n",
       "        "
      ],
      "text/plain": [
       "<pyspark.sql.session.SparkSession at 0x7f1e8d958850>"
      ]
     },
     "execution_count": 2,
     "metadata": {},
     "output_type": "execute_result"
    }
   ],
   "source": [
    "spark"
   ]
  },
  {
   "cell_type": "code",
   "execution_count": 0,
   "metadata": {
    "application/vnd.databricks.v1+cell": {
     "cellMetadata": {
      "byteLimit": 2048000,
      "rowLimit": 10000
     },
     "inputWidgets": {},
     "nuid": "a501325c-819a-4250-8628-bcb8bf54590e",
     "showTitle": false,
     "title": ""
    }
   },
   "outputs": [],
   "source": [
    "sales=spark.read.format(\"csv\").option(\"inferSchema\",\"true\").option(\"header\",\"true\").load(\"/mnt/supermarket/Sales.csv\")"
   ]
  },
  {
   "cell_type": "code",
   "execution_count": 0,
   "metadata": {
    "application/vnd.databricks.v1+cell": {
     "cellMetadata": {
      "byteLimit": 2048000,
      "rowLimit": 10000
     },
     "inputWidgets": {},
     "nuid": "d77629d5-43df-44b3-8cfa-49e68ae687a6",
     "showTitle": false,
     "title": ""
    }
   },
   "outputs": [],
   "source": [
    "items=spark.read.format(\"csv\").option(\"inferSchema\",\"true\").option(\"header\",\"true\").load(\"/mnt/supermarket/Items.csv\")"
   ]
  },
  {
   "cell_type": "code",
   "execution_count": 0,
   "metadata": {
    "application/vnd.databricks.v1+cell": {
     "cellMetadata": {
      "byteLimit": 2048000,
      "rowLimit": 10000
     },
     "inputWidgets": {},
     "nuid": "285b6a36-0aa8-44a6-ba7b-73c8a2345151",
     "showTitle": false,
     "title": ""
    }
   },
   "outputs": [
    {
     "output_type": "stream",
     "name": "stdout",
     "output_type": "stream",
     "text": [
      "+----------+--------------------+---------------+--------------------+---------------------------+--------------+-----------------+\n|      Date|                Time|      Item Code|Quantity Sold (kilo)|Unit Selling Price (RMB/kg)|Sale or Return|Discount (Yes/No)|\n+----------+--------------------+---------------+--------------------+---------------------------+--------------+-----------------+\n|2020-07-01|2023-10-04 09:15:...|102900005117056|               0.396|                        7.6|          sale|               No|\n|2020-07-01|2023-10-04 09:17:...|102900005115960|               0.849|                        3.2|          sale|               No|\n|2020-07-01|2023-10-04 09:17:...|102900005117056|               0.409|                        7.6|          sale|               No|\n|2020-07-01|2023-10-04 09:19:...|102900005115823|               0.421|                       10.0|          sale|               No|\n|2020-07-01|2023-10-04 09:20:...|102900005115908|               0.539|                        8.0|          sale|               No|\n+----------+--------------------+---------------+--------------------+---------------------------+--------------+-----------------+\nonly showing top 5 rows\n\n"
     ]
    }
   ],
   "source": [
    "sales.show(5)"
   ]
  },
  {
   "cell_type": "code",
   "execution_count": 0,
   "metadata": {
    "application/vnd.databricks.v1+cell": {
     "cellMetadata": {
      "byteLimit": 2048000,
      "rowLimit": 10000
     },
     "inputWidgets": {},
     "nuid": "ee3c926b-bc6a-47ad-b507-baf114ed6379",
     "showTitle": false,
     "title": ""
    }
   },
   "outputs": [
    {
     "output_type": "stream",
     "name": "stdout",
     "output_type": "stream",
     "text": [
      "+---------------+--------------------+-------------+--------------------+\n|      Item Code|           Item Name|Category Code|       Category Name|\n+---------------+--------------------+-------------+--------------------+\n|102900005115168|    Niushou Shengcai|   1011010101|Flower/Leaf Veget...|\n|102900005115199|   Sichuan Red Cedar|   1011010101|Flower/Leaf Veget...|\n|102900005115625|Local Xiaomao Cab...|   1011010101|Flower/Leaf Veget...|\n|102900005115748|        White Caitai|   1011010101|Flower/Leaf Veget...|\n|102900005115762|            Amaranth|   1011010101|Flower/Leaf Veget...|\n+---------------+--------------------+-------------+--------------------+\nonly showing top 5 rows\n\n"
     ]
    }
   ],
   "source": [
    "items.show(5)"
   ]
  },
  {
   "cell_type": "code",
   "execution_count": 0,
   "metadata": {
    "application/vnd.databricks.v1+cell": {
     "cellMetadata": {
      "byteLimit": 2048000,
      "rowLimit": 10000
     },
     "inputWidgets": {},
     "nuid": "cc9efd08-ead9-49b6-a3b6-870153ad95f9",
     "showTitle": false,
     "title": ""
    }
   },
   "outputs": [
    {
     "output_type": "stream",
     "name": "stdout",
     "output_type": "stream",
     "text": [
      "+--------------------+-----+\n|       Category Name|Count|\n+--------------------+-----+\n|            Capsicum|   45|\n|Flower/Leaf Veget...|  100|\n|             Cabbage|    5|\n|     Edible Mushroom|   72|\n|             Solanum|   10|\n|Aquatic Tuberous ...|   19|\n+--------------------+-----+\n\n"
     ]
    }
   ],
   "source": [
    "items.groupBy(\"Category Name\").agg(count(\"Item Name\").alias(\"Count\")).show()"
   ]
  },
  {
   "cell_type": "code",
   "execution_count": 0,
   "metadata": {
    "application/vnd.databricks.v1+cell": {
     "cellMetadata": {
      "byteLimit": 2048000,
      "rowLimit": 10000
     },
     "inputWidgets": {},
     "nuid": "50fd0d06-c44f-4f57-a743-43fdeee3ad05",
     "showTitle": false,
     "title": ""
    }
   },
   "outputs": [],
   "source": [
    "result=sales.join(items,on=\"Item Code\",how=\"inner\").select(\"Date\",\"Time\",\"Item Name\",\"Category Name\",\"Quantity Sold (kilo)\",\"Unit Selling Price (RMB/kg)\")"
   ]
  },
  {
   "cell_type": "code",
   "execution_count": 0,
   "metadata": {
    "application/vnd.databricks.v1+cell": {
     "cellMetadata": {
      "byteLimit": 2048000,
      "rowLimit": 10000
     },
     "inputWidgets": {},
     "nuid": "0fcb8339-2a72-4dd1-b7e5-750fc4357ee2",
     "showTitle": false,
     "title": ""
    }
   },
   "outputs": [
    {
     "output_type": "stream",
     "name": "stdout",
     "output_type": "stream",
     "text": [
      "+--------------------+----+------------------+--------------------+\n|           Item Name|Year|        TotalSales|       Category Name|\n+--------------------+----+------------------+--------------------+\n| 7 Colour Pepper (1)|2020| 2156.588599999999|            Capsicum|\n| 7 Colour Pepper (1)|2021|1565.5511999999997|            Capsicum|\n| 7 Colour Pepper (1)|2022| 553.1342000000003|            Capsicum|\n| 7 Colour Pepper (1)|2023|1282.7123999999997|            Capsicum|\n| 7 Colour Pepper (2)|2022|2280.3817000000004|            Capsicum|\n| 7 Colour Pepper (2)|2023| 6700.024899999977|            Capsicum|\n|7 Colour Pepper (...|2022|              91.0|            Capsicum|\n|Agaricus Bisporus...|2022|              79.8|     Edible Mushroom|\n|Agaricus Bisporus...|2022| 7932.899999999983|     Edible Mushroom|\n|Agaricus Bisporus...|2023|14671.999999999545|     Edible Mushroom|\n|               Aihao|2022|3.8160000000000003|Flower/Leaf Veget...|\n|               Aihao|2023|39.504000000000005|Flower/Leaf Veget...|\n|            Amaranth|2020|3001.7662000000028|Flower/Leaf Veget...|\n|            Amaranth|2021|10753.828600000037|Flower/Leaf Veget...|\n|            Amaranth|2022| 6626.273200000083|Flower/Leaf Veget...|\n|            Amaranth|2023| 5129.921600000011|Flower/Leaf Veget...|\n|      Amaranth (Bag)|2022|1171.1999999999978|Flower/Leaf Veget...|\n|Apricot Bao Mushr...|2020|13451.683000000037|     Edible Mushroom|\n|Apricot Bao Mushr...|2021| 10870.11600000005|     Edible Mushroom|\n|Apricot Bao Mushr...|2022| 9.030000000000001|     Edible Mushroom|\n+--------------------+----+------------------+--------------------+\nonly showing top 20 rows\n\n"
     ]
    }
   ],
   "source": [
    "#Total Sales of each proudct year wise\n",
    "result=result.withColumn(\"TotalSales\",col(\"Quantity Sold (kilo)\")*col(\"Unit Selling Price (RMB/kg)\"))\n",
    "total=result.withColumn(\"year\",year(\"Date\")).groupBy(\"Item Name\",\"Year\").agg(sum(\"TotalSales\").alias(\"TotalSales\"),first(\"Category Name\").alias(\"Category Name\"))\n",
    "\n",
    "total.orderBy(\"Item Name\",\"Year\").show()"
   ]
  },
  {
   "cell_type": "code",
   "execution_count": 0,
   "metadata": {
    "application/vnd.databricks.v1+cell": {
     "cellMetadata": {
      "byteLimit": 2048000,
      "rowLimit": 10000
     },
     "inputWidgets": {},
     "nuid": "0dfbb526-bef1-4eef-a60c-3d479594a9cf",
     "showTitle": false,
     "title": ""
    }
   },
   "outputs": [
    {
     "output_type": "stream",
     "name": "stdout",
     "output_type": "stream",
     "text": [
      "+--------------------+----------+------------------+\n|       Category Name|year_month|        TotalSales|\n+--------------------+----------+------------------+\n|Aquatic Tuberous ...|   2020-07| 4481.130000000006|\n|Aquatic Tuberous ...|   2020-08| 8731.340000000015|\n|Aquatic Tuberous ...|   2020-09| 6520.800000000011|\n|Aquatic Tuberous ...|   2020-10|10626.320000000005|\n|Aquatic Tuberous ...|   2020-11| 7515.950000000008|\n|Aquatic Tuberous ...|   2020-12|14757.269999999904|\n|Aquatic Tuberous ...|   2021-01|17416.909999999836|\n|Aquatic Tuberous ...|   2021-02|23360.199999999862|\n|Aquatic Tuberous ...|   2021-03| 9402.719999999978|\n|Aquatic Tuberous ...|   2021-04| 5638.600000000015|\n|Aquatic Tuberous ...|   2021-05| 3331.430000000007|\n|Aquatic Tuberous ...|   2021-06| 4693.199999999999|\n|Aquatic Tuberous ...|   2021-07| 6891.520000000009|\n|Aquatic Tuberous ...|   2021-08|10253.900000000007|\n|Aquatic Tuberous ...|   2021-09| 9893.239999999978|\n|Aquatic Tuberous ...|   2021-10|  9703.02000000002|\n|Aquatic Tuberous ...|   2021-11| 8272.540000000008|\n|Aquatic Tuberous ...|   2021-12| 7992.980000000003|\n|Aquatic Tuberous ...|   2022-01|17948.230000000007|\n|Aquatic Tuberous ...|   2022-02| 8877.599999999997|\n+--------------------+----------+------------------+\nonly showing top 20 rows\n\n"
     ]
    }
   ],
   "source": [
    "#Total sales of each category month wise\n",
    "Cat_Wise_sales=result.withColumn(\"TotalSales\",round(col(\"Quantity Sold (kilo)\")*col(\"Unit Selling Price (RMB/kg)\"),2)).withColumn(\"year_month\", date_format(to_date(\"Date\", \"yyyy-MM-dd\"), \"yyyy-MM\")).groupBy(\"Category Name\",\"year_month\").agg(sum(\"TotalSales\").alias(\"TotalSales\"))\n",
    "Cat_Wise_sales.orderBy(\"Category Name\",\"year_month\").show()"
   ]
  },
  {
   "cell_type": "code",
   "execution_count": 0,
   "metadata": {
    "application/vnd.databricks.v1+cell": {
     "cellMetadata": {
      "byteLimit": 2048000,
      "rowLimit": 10000
     },
     "inputWidgets": {},
     "nuid": "e318b12e-0930-4a39-9e0d-21167530ebb6",
     "showTitle": false,
     "title": ""
    }
   },
   "outputs": [
    {
     "output_type": "stream",
     "name": "stdout",
     "output_type": "stream",
     "text": [
      "root\n |-- Category Name: string (nullable = true)\n |-- Month_Year: string (nullable = true)\n |-- TotalSales: double (nullable = true)\n\n"
     ]
    }
   ],
   "source": [
    "Cat_Wise_sales.printSchema()"
   ]
  },
  {
   "cell_type": "code",
   "execution_count": 0,
   "metadata": {
    "application/vnd.databricks.v1+cell": {
     "cellMetadata": {
      "byteLimit": 2048000,
      "rowLimit": 10000
     },
     "inputWidgets": {},
     "nuid": "7566cc90-7808-46f5-b5a4-c2420653249d",
     "showTitle": false,
     "title": ""
    }
   },
   "outputs": [
    {
     "output_type": "stream",
     "name": "stdout",
     "output_type": "stream",
     "text": [
      "+--------------------+----------+------------------+-------------------+\n|       Category Name|year_month|        TotalSales|    Sales_diff_prev|\n+--------------------+----------+------------------+-------------------+\n|Aquatic Tuberous ...|   2020-07| 4481.130000000006|  4481.130000000006|\n|Aquatic Tuberous ...|   2020-08| 8731.340000000015|  4250.210000000009|\n|Aquatic Tuberous ...|   2020-09| 6520.800000000011|-2210.5400000000036|\n|Aquatic Tuberous ...|   2020-10|10626.320000000005|  4105.519999999994|\n|Aquatic Tuberous ...|   2020-11| 7515.950000000008| -3110.369999999997|\n|Aquatic Tuberous ...|   2020-12|14757.269999999904|  7241.319999999896|\n|Aquatic Tuberous ...|   2021-01|17416.909999999836|  2659.639999999932|\n|Aquatic Tuberous ...|   2021-02|23360.199999999862|  5943.290000000026|\n|Aquatic Tuberous ...|   2021-03| 9402.719999999978|-13957.479999999885|\n|Aquatic Tuberous ...|   2021-04| 5638.600000000015|-3764.1199999999626|\n|Aquatic Tuberous ...|   2021-05| 3331.430000000007| -2307.170000000008|\n|Aquatic Tuberous ...|   2021-06| 4693.199999999999| 1361.7699999999918|\n|Aquatic Tuberous ...|   2021-07| 6891.520000000009| 2198.3200000000097|\n|Aquatic Tuberous ...|   2021-08|10253.900000000007| 3362.3799999999983|\n|Aquatic Tuberous ...|   2021-09| 9893.239999999978|-360.66000000002896|\n|Aquatic Tuberous ...|   2021-10|  9703.02000000002| -190.2199999999575|\n|Aquatic Tuberous ...|   2021-11| 8272.540000000008|-1430.4800000000123|\n|Aquatic Tuberous ...|   2021-12| 7992.980000000003|-279.56000000000495|\n|Aquatic Tuberous ...|   2022-01|17948.230000000007|  9955.250000000004|\n|Aquatic Tuberous ...|   2022-02| 8877.599999999997|  -9070.63000000001|\n+--------------------+----------+------------------+-------------------+\nonly showing top 20 rows\n\n"
     ]
    }
   ],
   "source": [
    "window_Spec=Window.partitionBy(\"Category Name\").orderBy(\"year_month\")\n",
    "df = Cat_Wise_sales.withColumn(\"Sales_diff_prev\", coalesce(col(\"TotalSales\") - lag(col(\"TotalSales\"), 1).over(window_Spec),col(\"TotalSales\")))\n",
    "df.show()"
   ]
  },
  {
   "cell_type": "code",
   "execution_count": 0,
   "metadata": {
    "application/vnd.databricks.v1+cell": {
     "cellMetadata": {
      "byteLimit": 2048000,
      "rowLimit": 10000
     },
     "inputWidgets": {},
     "nuid": "051b0ead-0f8b-41fc-975d-fc72e1052cbb",
     "showTitle": false,
     "title": ""
    }
   },
   "outputs": [],
   "source": [
    "result.write.mode(\"overwrite\").csv(\"/mnt/supermarket/transformed-data/total_Sales\")"
   ]
  },
  {
   "cell_type": "code",
   "execution_count": 0,
   "metadata": {
    "application/vnd.databricks.v1+cell": {
     "cellMetadata": {
      "byteLimit": 2048000,
      "rowLimit": 10000
     },
     "inputWidgets": {},
     "nuid": "d96a0dad-6ae8-4eee-827b-8ac9243f1a87",
     "showTitle": false,
     "title": ""
    }
   },
   "outputs": [],
   "source": [
    "total.repartition(1).write.mode(\"overwrite\").option(\"header\",\"true\").csv(\"/mnt/supermarket/transformed-data/Yearly_Sales\")"
   ]
  },
  {
   "cell_type": "code",
   "execution_count": 0,
   "metadata": {
    "application/vnd.databricks.v1+cell": {
     "cellMetadata": {
      "byteLimit": 2048000,
      "rowLimit": 10000
     },
     "inputWidgets": {},
     "nuid": "820a6502-defc-4281-b618-a85197940656",
     "showTitle": false,
     "title": ""
    }
   },
   "outputs": [],
   "source": [
    "df.repartition(1).write.mode(\"overwrite\").option(\"header\",\"true\").csv(\"/mnt/supermarket/transformed-data/Category_MonthSales\")"
   ]
  },
  {
   "cell_type": "code",
   "execution_count": 0,
   "metadata": {
    "application/vnd.databricks.v1+cell": {
     "cellMetadata": {},
     "inputWidgets": {},
     "nuid": "8cb9ed3e-2af8-4e52-a742-129763bbc8c8",
     "showTitle": false,
     "title": ""
    }
   },
   "outputs": [],
   "source": []
  }
 ],
 "metadata": {
  "application/vnd.databricks.v1+notebook": {
   "dashboards": [],
   "language": "python",
   "notebookMetadata": {
    "mostRecentlyExecutedCommandWithImplicitDF": {
     "commandId": 4038619654405548,
     "dataframes": [
      "_sqldf"
     ]
    },
    "pythonIndentUnit": 4
   },
   "notebookName": "Super market Sales transformation",
   "widgets": {}
  }
 },
 "nbformat": 4,
 "nbformat_minor": 0
}
